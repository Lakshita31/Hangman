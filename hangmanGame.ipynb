{
 "cells": [
  {
   "cell_type": "code",
   "execution_count": 3,
   "metadata": {},
   "outputs": [
    {
     "ename": "NameError",
     "evalue": "name 'word_list' is not defined",
     "output_type": "error",
     "traceback": [
      "\u001b[1;31m---------------------------------------------------------------------------\u001b[0m",
      "\u001b[1;31mNameError\u001b[0m                                 Traceback (most recent call last)",
      "Cell \u001b[1;32mIn[3], line 2\u001b[0m\n\u001b[0;32m      1\u001b[0m \u001b[39mimport\u001b[39;00m \u001b[39mrandom\u001b[39;00m \u001b[39mas\u001b[39;00m \u001b[39mr1\u001b[39;00m\n\u001b[1;32m----> 2\u001b[0m chosen_word\u001b[39m=\u001b[39m r1\u001b[39m.\u001b[39mchoice(word_list)\n\u001b[0;32m      3\u001b[0m word_length\u001b[39m=\u001b[39m\u001b[39mlen\u001b[39m(chosen_word)\n\u001b[0;32m      4\u001b[0m end_of_game\u001b[39m=\u001b[39m\u001b[39mFalse\u001b[39;00m\n",
      "\u001b[1;31mNameError\u001b[0m: name 'word_list' is not defined"
     ]
    }
   ],
   "source": [
    "import random as r1\n",
    "chosen_word= r1.choice(word_list)\n",
    "word_length=len(chosen_word)\n",
    "end_of_game=False\n",
    "lives=6\n",
    "print(f'pssst, the solution is {chosen_word}.')\n",
    "\n",
    "display=[]\n",
    "for _ in range(word_length):\n",
    "    display+= \"_\"\n",
    "while not end_of_game:\n",
    "    guess=input(\"Guess a letter: \").lower()\n",
    "    \n",
    "    for position in range(word_length):\n",
    "        letter = chosen_word(position)\n",
    "        print(f'current position: {position}\\n Currentl letter: {letter}\\n Guessed letter : {guess} ')\n",
    "        if letter==guess:\n",
    "            display[position]=letter\n",
    "    if guess not in chosen_words:\n",
    "        lives-=1\n",
    "        if lives==0:\n",
    "            end_of_game= True\n",
    "            print(\"You lose.\")\n",
    "    print(f\"{' '.join(display)}\")\n",
    "    \n",
    "    if \"-\" not in display:\n",
    "        end_of_game= True\n",
    "        print(\"You win.\")\n",
    "    \n",
    "    print (stages[lives])        \n",
    "     "
   ]
  },
  {
   "cell_type": "code",
   "execution_count": null,
   "metadata": {},
   "outputs": [],
   "source": []
  }
 ],
 "metadata": {
  "kernelspec": {
   "display_name": "Python 3",
   "language": "python",
   "name": "python3"
  },
  "language_info": {
   "codemirror_mode": {
    "name": "ipython",
    "version": 3
   },
   "file_extension": ".py",
   "mimetype": "text/x-python",
   "name": "python",
   "nbconvert_exporter": "python",
   "pygments_lexer": "ipython3",
   "version": "3.11.4"
  },
  "orig_nbformat": 4
 },
 "nbformat": 4,
 "nbformat_minor": 2
}
